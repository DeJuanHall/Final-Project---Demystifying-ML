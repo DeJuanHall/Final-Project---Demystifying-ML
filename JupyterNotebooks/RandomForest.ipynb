{
 "cells": [
  {
   "cell_type": "markdown",
   "source": [
    "# Dependecies"
   ],
   "metadata": {}
  },
  {
   "cell_type": "code",
   "execution_count": 1,
   "source": [
    "import pandas as pd\r\n",
    "import numpy as np\r\n",
    "from sklearn.model_selection import train_test_split, GridSearchCV\r\n",
    "from sklearn.preprocessing import LabelEncoder, MinMaxScaler\r\n",
    "from sklearn.feature_selection import RFECV\r\n",
    "from sklearn.ensemble import RandomForestClassifier\r\n",
    "import joblib"
   ],
   "outputs": [],
   "metadata": {}
  },
  {
   "cell_type": "markdown",
   "source": [
    "# Process Data"
   ],
   "metadata": {}
  },
  {
   "cell_type": "markdown",
   "source": [
    "### Data Cleanup"
   ],
   "metadata": {}
  },
  {
   "cell_type": "code",
   "execution_count": 2,
   "source": [
    "data = pd.read_csv(\"../Resources/exoplanet_data.csv\")\r\n",
    "\r\n",
    "# Drop null columns\r\n",
    "data = data.dropna(axis='columns', how='all')\r\n",
    "\r\n",
    "# Drop null rows\r\n",
    "data = data.dropna()\r\n",
    "\r\n",
    "# Convert dtypes of int64 to float64\r\n",
    "for column, content in data.items():\r\n",
    "    if data[column].dtype == 'int64':\r\n",
    "        data = data.astype({column: 'float64'})"
   ],
   "outputs": [],
   "metadata": {}
  },
  {
   "cell_type": "markdown",
   "source": [
    "### Pre-prossessing"
   ],
   "metadata": {}
  },
  {
   "cell_type": "code",
   "execution_count": 3,
   "source": [
    "# Assign data to X and y\r\n",
    "X = data.drop(\"koi_disposition\", axis=1)\r\n",
    "y = data[\"koi_disposition\"]\r\n",
    "\r\n",
    "# Split data into training and testing groups\r\n",
    "X_train, X_test, y_train, y_test = train_test_split(X, y, random_state=42, stratify=y)"
   ],
   "outputs": [],
   "metadata": {}
  },
  {
   "cell_type": "code",
   "execution_count": 4,
   "source": [
    "# Scale X values\r\n",
    "X_scaler = MinMaxScaler().fit(X_train)\r\n",
    "X_train_scaled = X_scaler.transform(X_train)\r\n",
    "X_test_scaled = X_scaler.transform(X_test)"
   ],
   "outputs": [],
   "metadata": {}
  },
  {
   "cell_type": "markdown",
   "source": [
    "# Build the Model"
   ],
   "metadata": {}
  },
  {
   "cell_type": "markdown",
   "source": [
    "### Train the Model"
   ],
   "metadata": {}
  },
  {
   "cell_type": "code",
   "execution_count": 5,
   "source": [
    "model_1 = RandomForestClassifier(n_estimators=200)\r\n",
    "model_1.fit(X_train_scaled, y_train)\r\n",
    "\r\n",
    "model_1_training_score = round(model_1.score(X_train_scaled, y_train)*100,3)\r\n",
    "base_accuracy = round(model_1.score(X_test_scaled, y_test)*100,3)\r\n",
    "\r\n",
    "print(f\"Training Data Score: {model_1_training_score} %\")\r\n",
    "print(f\"Testing Data Score: {base_accuracy} %\")"
   ],
   "outputs": [
    {
     "output_type": "stream",
     "name": "stdout",
     "text": [
      "Training Data Score: 100.0 %\n",
      "Testing Data Score: 90.16 %\n"
     ]
    }
   ],
   "metadata": {}
  },
  {
   "cell_type": "markdown",
   "source": [
    "### Select Features"
   ],
   "metadata": {}
  },
  {
   "cell_type": "code",
   "execution_count": 6,
   "source": [
    "# Determine which features ought to be kept\r\n",
    "feature_names = X.columns.tolist()\r\n",
    "preSelected_features = sorted(zip(model_1.feature_importances_, feature_names), reverse=True)\r\n",
    "ranked_features = pd.DataFrame(preSelected_features, columns=['Score', 'Feature'])\r\n",
    "ranked_features = ranked_features.set_index('Feature')\r\n",
    "ranked_features"
   ],
   "outputs": [
    {
     "output_type": "execute_result",
     "data": {
      "text/plain": [
       "                      Score\n",
       "Feature                    \n",
       "koi_fpflag_co      0.102210\n",
       "koi_fpflag_nt      0.097020\n",
       "koi_fpflag_ss      0.063261\n",
       "koi_model_snr      0.058470\n",
       "koi_prad           0.044948\n",
       "koi_prad_err1      0.038802\n",
       "koi_fpflag_ec      0.038749\n",
       "koi_steff_err1     0.034588\n",
       "koi_duration_err2  0.032383\n",
       "koi_prad_err2      0.031472\n",
       "koi_duration_err1  0.030762\n",
       "koi_steff_err2     0.027737\n",
       "koi_period         0.024920\n",
       "koi_duration       0.023923\n",
       "koi_time0bk_err1   0.022161\n",
       "koi_time0bk_err2   0.021893\n",
       "koi_insol_err1     0.021506\n",
       "koi_depth          0.021094\n",
       "koi_impact         0.018207\n",
       "koi_period_err2    0.018095\n",
       "koi_period_err1    0.017054\n",
       "koi_teq            0.015620\n",
       "koi_time0bk        0.014504\n",
       "koi_depth_err1     0.013937\n",
       "koi_depth_err2     0.013724\n",
       "ra                 0.013459\n",
       "koi_insol_err2     0.013162\n",
       "koi_srad_err1      0.011552\n",
       "koi_kepmag         0.011286\n",
       "koi_slogg_err2     0.011195\n",
       "dec                0.010991\n",
       "koi_insol          0.010733\n",
       "koi_impact_err2    0.010613\n",
       "koi_impact_err1    0.010393\n",
       "koi_slogg          0.009599\n",
       "koi_slogg_err1     0.009423\n",
       "koi_steff          0.009410\n",
       "koi_srad           0.009036\n",
       "koi_srad_err2      0.008909\n",
       "koi_tce_plnt_num   0.003198"
      ],
      "text/html": [
       "<div>\n",
       "<style scoped>\n",
       "    .dataframe tbody tr th:only-of-type {\n",
       "        vertical-align: middle;\n",
       "    }\n",
       "\n",
       "    .dataframe tbody tr th {\n",
       "        vertical-align: top;\n",
       "    }\n",
       "\n",
       "    .dataframe thead th {\n",
       "        text-align: right;\n",
       "    }\n",
       "</style>\n",
       "<table border=\"1\" class=\"dataframe\">\n",
       "  <thead>\n",
       "    <tr style=\"text-align: right;\">\n",
       "      <th></th>\n",
       "      <th>Score</th>\n",
       "    </tr>\n",
       "    <tr>\n",
       "      <th>Feature</th>\n",
       "      <th></th>\n",
       "    </tr>\n",
       "  </thead>\n",
       "  <tbody>\n",
       "    <tr>\n",
       "      <th>koi_fpflag_co</th>\n",
       "      <td>0.102210</td>\n",
       "    </tr>\n",
       "    <tr>\n",
       "      <th>koi_fpflag_nt</th>\n",
       "      <td>0.097020</td>\n",
       "    </tr>\n",
       "    <tr>\n",
       "      <th>koi_fpflag_ss</th>\n",
       "      <td>0.063261</td>\n",
       "    </tr>\n",
       "    <tr>\n",
       "      <th>koi_model_snr</th>\n",
       "      <td>0.058470</td>\n",
       "    </tr>\n",
       "    <tr>\n",
       "      <th>koi_prad</th>\n",
       "      <td>0.044948</td>\n",
       "    </tr>\n",
       "    <tr>\n",
       "      <th>koi_prad_err1</th>\n",
       "      <td>0.038802</td>\n",
       "    </tr>\n",
       "    <tr>\n",
       "      <th>koi_fpflag_ec</th>\n",
       "      <td>0.038749</td>\n",
       "    </tr>\n",
       "    <tr>\n",
       "      <th>koi_steff_err1</th>\n",
       "      <td>0.034588</td>\n",
       "    </tr>\n",
       "    <tr>\n",
       "      <th>koi_duration_err2</th>\n",
       "      <td>0.032383</td>\n",
       "    </tr>\n",
       "    <tr>\n",
       "      <th>koi_prad_err2</th>\n",
       "      <td>0.031472</td>\n",
       "    </tr>\n",
       "    <tr>\n",
       "      <th>koi_duration_err1</th>\n",
       "      <td>0.030762</td>\n",
       "    </tr>\n",
       "    <tr>\n",
       "      <th>koi_steff_err2</th>\n",
       "      <td>0.027737</td>\n",
       "    </tr>\n",
       "    <tr>\n",
       "      <th>koi_period</th>\n",
       "      <td>0.024920</td>\n",
       "    </tr>\n",
       "    <tr>\n",
       "      <th>koi_duration</th>\n",
       "      <td>0.023923</td>\n",
       "    </tr>\n",
       "    <tr>\n",
       "      <th>koi_time0bk_err1</th>\n",
       "      <td>0.022161</td>\n",
       "    </tr>\n",
       "    <tr>\n",
       "      <th>koi_time0bk_err2</th>\n",
       "      <td>0.021893</td>\n",
       "    </tr>\n",
       "    <tr>\n",
       "      <th>koi_insol_err1</th>\n",
       "      <td>0.021506</td>\n",
       "    </tr>\n",
       "    <tr>\n",
       "      <th>koi_depth</th>\n",
       "      <td>0.021094</td>\n",
       "    </tr>\n",
       "    <tr>\n",
       "      <th>koi_impact</th>\n",
       "      <td>0.018207</td>\n",
       "    </tr>\n",
       "    <tr>\n",
       "      <th>koi_period_err2</th>\n",
       "      <td>0.018095</td>\n",
       "    </tr>\n",
       "    <tr>\n",
       "      <th>koi_period_err1</th>\n",
       "      <td>0.017054</td>\n",
       "    </tr>\n",
       "    <tr>\n",
       "      <th>koi_teq</th>\n",
       "      <td>0.015620</td>\n",
       "    </tr>\n",
       "    <tr>\n",
       "      <th>koi_time0bk</th>\n",
       "      <td>0.014504</td>\n",
       "    </tr>\n",
       "    <tr>\n",
       "      <th>koi_depth_err1</th>\n",
       "      <td>0.013937</td>\n",
       "    </tr>\n",
       "    <tr>\n",
       "      <th>koi_depth_err2</th>\n",
       "      <td>0.013724</td>\n",
       "    </tr>\n",
       "    <tr>\n",
       "      <th>ra</th>\n",
       "      <td>0.013459</td>\n",
       "    </tr>\n",
       "    <tr>\n",
       "      <th>koi_insol_err2</th>\n",
       "      <td>0.013162</td>\n",
       "    </tr>\n",
       "    <tr>\n",
       "      <th>koi_srad_err1</th>\n",
       "      <td>0.011552</td>\n",
       "    </tr>\n",
       "    <tr>\n",
       "      <th>koi_kepmag</th>\n",
       "      <td>0.011286</td>\n",
       "    </tr>\n",
       "    <tr>\n",
       "      <th>koi_slogg_err2</th>\n",
       "      <td>0.011195</td>\n",
       "    </tr>\n",
       "    <tr>\n",
       "      <th>dec</th>\n",
       "      <td>0.010991</td>\n",
       "    </tr>\n",
       "    <tr>\n",
       "      <th>koi_insol</th>\n",
       "      <td>0.010733</td>\n",
       "    </tr>\n",
       "    <tr>\n",
       "      <th>koi_impact_err2</th>\n",
       "      <td>0.010613</td>\n",
       "    </tr>\n",
       "    <tr>\n",
       "      <th>koi_impact_err1</th>\n",
       "      <td>0.010393</td>\n",
       "    </tr>\n",
       "    <tr>\n",
       "      <th>koi_slogg</th>\n",
       "      <td>0.009599</td>\n",
       "    </tr>\n",
       "    <tr>\n",
       "      <th>koi_slogg_err1</th>\n",
       "      <td>0.009423</td>\n",
       "    </tr>\n",
       "    <tr>\n",
       "      <th>koi_steff</th>\n",
       "      <td>0.009410</td>\n",
       "    </tr>\n",
       "    <tr>\n",
       "      <th>koi_srad</th>\n",
       "      <td>0.009036</td>\n",
       "    </tr>\n",
       "    <tr>\n",
       "      <th>koi_srad_err2</th>\n",
       "      <td>0.008909</td>\n",
       "    </tr>\n",
       "    <tr>\n",
       "      <th>koi_tce_plnt_num</th>\n",
       "      <td>0.003198</td>\n",
       "    </tr>\n",
       "  </tbody>\n",
       "</table>\n",
       "</div>"
      ]
     },
     "metadata": {},
     "execution_count": 6
    }
   ],
   "metadata": {}
  },
  {
   "cell_type": "code",
   "execution_count": 7,
   "source": [
    "# Remove features with Score < 0.011\r\n",
    "selected_features = []\r\n",
    "for tup in preSelected_features:\r\n",
    "    if tup[0] > 0.01:\r\n",
    "        selected_features.append(tup[1])"
   ],
   "outputs": [],
   "metadata": {}
  },
  {
   "cell_type": "code",
   "execution_count": 13,
   "source": [
    "# Use new data for all subsequent models\r\n",
    "## Assign new data to X \r\n",
    "X_train_select = X_train[selected_features]\r\n",
    "X_test_select = X_test[selected_features]\r\n",
    "\r\n",
    "X_scaler = MinMaxScaler().fit(X_train_select)\r\n",
    "X_train_scaled = X_scaler.transform(X_train_select)\r\n",
    "X_test_scaled = X_scaler.transform(X_test_select)\r\n",
    "\r\n",
    "## Train new model\r\n",
    "model_2 = RandomForestClassifier(n_estimators=200)\r\n",
    "model_2.fit(X_train_scaled, y_train)\r\n",
    "\r\n",
    "model_2_training_score = round(model_2.score(X_train_scaled, y_train)*100,3)\r\n",
    "select_features_accuracy = round(model_2.score(X_test_scaled, y_test)*100,3)\r\n",
    "\r\n",
    "print(f\"Training Data Score: {model_2_training_score} %\")\r\n",
    "print(f\"Testing Data Score: {select_features_accuracy} %\")"
   ],
   "outputs": [
    {
     "output_type": "stream",
     "name": "stdout",
     "text": [
      "Training Data Score: 100.0 %\n",
      "Testing Data Score: 90.103 %\n"
     ]
    }
   ],
   "metadata": {}
  },
  {
   "cell_type": "markdown",
   "source": [
    "### Model Tuning"
   ],
   "metadata": {}
  },
  {
   "cell_type": "code",
   "execution_count": 8,
   "source": [
    "# Create the RandomSearchCV model\r\n",
    "model_3 = RandomForestClassifier(random_state=42)\r\n",
    "\r\n",
    "param_grid = {\r\n",
    "    'n_estimators': [200, 600, 1200, 1400],\r\n",
    "    'max_features': ['auto', 'sqrt', 'log2'],\r\n",
    "    'max_depth': [14, 15, 16, 17, 18, None]\r\n",
    "}\r\n",
    "grid = GridSearchCV(model_3, param_grid, cv=5, verbose=3, n_jobs=-1)\r\n",
    "\r\n",
    "# Train the model with GridSearch\r\n",
    "_ = grid.fit(X_train_scaled, y_train)"
   ],
   "outputs": [
    {
     "output_type": "stream",
     "name": "stdout",
     "text": [
      "Fitting 5 folds for each of 72 candidates, totalling 360 fits\n"
     ]
    }
   ],
   "metadata": {}
  },
  {
   "cell_type": "markdown",
   "source": [
    "### Train Tuned Model"
   ],
   "metadata": {}
  },
  {
   "cell_type": "code",
   "execution_count": 9,
   "source": [
    "# Tuned parameters\r\n",
    "max_features = grid.best_params_['max_features']\r\n",
    "n_estimators = grid.best_params_['n_estimators']\r\n",
    "max_depth = grid.best_params_['max_depth']\r\n",
    "criterion = 'entropy'\r\n",
    "\r\n",
    "# Tuned model\r\n",
    "tuned_model = RandomForestClassifier(max_features=max_features, n_estimators=n_estimators, \r\n",
    "                                     criterion=criterion, max_depth=max_depth, random_state=42)\r\n",
    "tuned_model.fit(X_train_scaled, y_train)\r\n",
    "\r\n",
    "model_3_training_score = round(tuned_model.score(X_train_scaled, y_train)*100,3)\r\n",
    "tuned_accuracy = round(tuned_model.score(X_test_scaled, y_test)*100,3)\r\n",
    "\r\n",
    "print(f\"Training Data Score: {model_3_training_score} %\")\r\n",
    "print(f\"Testing Data Score: {tuned_accuracy} %\")"
   ],
   "outputs": [
    {
     "output_type": "stream",
     "name": "stdout",
     "text": [
      "Training Data Score: 99.466 %\n",
      "Testing Data Score: 90.103 %\n"
     ]
    }
   ],
   "metadata": {}
  },
  {
   "cell_type": "markdown",
   "source": [
    "# Model Predictions and Evaluations"
   ],
   "metadata": {}
  },
  {
   "cell_type": "markdown",
   "source": [
    "### Predicitions"
   ],
   "metadata": {}
  },
  {
   "cell_type": "code",
   "execution_count": 10,
   "source": [
    "predictions = tuned_model.predict(X_test_scaled)\r\n",
    "classifications = y_test.unique().tolist()\r\n",
    "\r\n",
    "prediction_actual = {\r\n",
    "    'Actual': y_test,\r\n",
    "    'Prediction': predictions\r\n",
    "}\r\n",
    "\r\n",
    "PA_df = pd.DataFrame(prediction_actual)\r\n",
    "PA_df = PA_df.set_index('Actual').reset_index()\r\n",
    "PA_df.head(15)"
   ],
   "outputs": [
    {
     "output_type": "execute_result",
     "data": {
      "text/plain": [
       "            Actual      Prediction\n",
       "0        CANDIDATE       CANDIDATE\n",
       "1   FALSE POSITIVE  FALSE POSITIVE\n",
       "2   FALSE POSITIVE  FALSE POSITIVE\n",
       "3   FALSE POSITIVE  FALSE POSITIVE\n",
       "4        CANDIDATE       CANDIDATE\n",
       "5   FALSE POSITIVE  FALSE POSITIVE\n",
       "6        CANDIDATE       CANDIDATE\n",
       "7   FALSE POSITIVE  FALSE POSITIVE\n",
       "8   FALSE POSITIVE  FALSE POSITIVE\n",
       "9   FALSE POSITIVE  FALSE POSITIVE\n",
       "10  FALSE POSITIVE  FALSE POSITIVE\n",
       "11  FALSE POSITIVE  FALSE POSITIVE\n",
       "12       CONFIRMED       CONFIRMED\n",
       "13  FALSE POSITIVE  FALSE POSITIVE\n",
       "14  FALSE POSITIVE  FALSE POSITIVE"
      ],
      "text/html": [
       "<div>\n",
       "<style scoped>\n",
       "    .dataframe tbody tr th:only-of-type {\n",
       "        vertical-align: middle;\n",
       "    }\n",
       "\n",
       "    .dataframe tbody tr th {\n",
       "        vertical-align: top;\n",
       "    }\n",
       "\n",
       "    .dataframe thead th {\n",
       "        text-align: right;\n",
       "    }\n",
       "</style>\n",
       "<table border=\"1\" class=\"dataframe\">\n",
       "  <thead>\n",
       "    <tr style=\"text-align: right;\">\n",
       "      <th></th>\n",
       "      <th>Actual</th>\n",
       "      <th>Prediction</th>\n",
       "    </tr>\n",
       "  </thead>\n",
       "  <tbody>\n",
       "    <tr>\n",
       "      <th>0</th>\n",
       "      <td>CANDIDATE</td>\n",
       "      <td>CANDIDATE</td>\n",
       "    </tr>\n",
       "    <tr>\n",
       "      <th>1</th>\n",
       "      <td>FALSE POSITIVE</td>\n",
       "      <td>FALSE POSITIVE</td>\n",
       "    </tr>\n",
       "    <tr>\n",
       "      <th>2</th>\n",
       "      <td>FALSE POSITIVE</td>\n",
       "      <td>FALSE POSITIVE</td>\n",
       "    </tr>\n",
       "    <tr>\n",
       "      <th>3</th>\n",
       "      <td>FALSE POSITIVE</td>\n",
       "      <td>FALSE POSITIVE</td>\n",
       "    </tr>\n",
       "    <tr>\n",
       "      <th>4</th>\n",
       "      <td>CANDIDATE</td>\n",
       "      <td>CANDIDATE</td>\n",
       "    </tr>\n",
       "    <tr>\n",
       "      <th>5</th>\n",
       "      <td>FALSE POSITIVE</td>\n",
       "      <td>FALSE POSITIVE</td>\n",
       "    </tr>\n",
       "    <tr>\n",
       "      <th>6</th>\n",
       "      <td>CANDIDATE</td>\n",
       "      <td>CANDIDATE</td>\n",
       "    </tr>\n",
       "    <tr>\n",
       "      <th>7</th>\n",
       "      <td>FALSE POSITIVE</td>\n",
       "      <td>FALSE POSITIVE</td>\n",
       "    </tr>\n",
       "    <tr>\n",
       "      <th>8</th>\n",
       "      <td>FALSE POSITIVE</td>\n",
       "      <td>FALSE POSITIVE</td>\n",
       "    </tr>\n",
       "    <tr>\n",
       "      <th>9</th>\n",
       "      <td>FALSE POSITIVE</td>\n",
       "      <td>FALSE POSITIVE</td>\n",
       "    </tr>\n",
       "    <tr>\n",
       "      <th>10</th>\n",
       "      <td>FALSE POSITIVE</td>\n",
       "      <td>FALSE POSITIVE</td>\n",
       "    </tr>\n",
       "    <tr>\n",
       "      <th>11</th>\n",
       "      <td>FALSE POSITIVE</td>\n",
       "      <td>FALSE POSITIVE</td>\n",
       "    </tr>\n",
       "    <tr>\n",
       "      <th>12</th>\n",
       "      <td>CONFIRMED</td>\n",
       "      <td>CONFIRMED</td>\n",
       "    </tr>\n",
       "    <tr>\n",
       "      <th>13</th>\n",
       "      <td>FALSE POSITIVE</td>\n",
       "      <td>FALSE POSITIVE</td>\n",
       "    </tr>\n",
       "    <tr>\n",
       "      <th>14</th>\n",
       "      <td>FALSE POSITIVE</td>\n",
       "      <td>FALSE POSITIVE</td>\n",
       "    </tr>\n",
       "  </tbody>\n",
       "</table>\n",
       "</div>"
      ]
     },
     "metadata": {},
     "execution_count": 10
    }
   ],
   "metadata": {}
  },
  {
   "cell_type": "markdown",
   "source": [
    "### Evaluations"
   ],
   "metadata": {}
  },
  {
   "cell_type": "code",
   "execution_count": 14,
   "source": [
    "evaluations = {'': ['Base Model', 'Select Features Model', 'Tuned Model'],\r\n",
    "               'Accuracy': [f\"{base_accuracy}%\", f\"{select_features_accuracy}%\", f\"{tuned_accuracy}%\"]}\r\n",
    "\r\n",
    "evaluations_df = pd.DataFrame(evaluations)\r\n",
    "evaluations_df = evaluations_df.set_index('')\r\n",
    "\r\n",
    "evaluations_df.to_csv('../Resources/RandomForestClassifier_eval.csv')\r\n",
    "evaluations_df"
   ],
   "outputs": [
    {
     "output_type": "execute_result",
     "data": {
      "text/plain": [
       "                      Accuracy\n",
       "                              \n",
       "Base Model              90.16%\n",
       "Select Features Model  90.103%\n",
       "Tuned Model            90.103%"
      ],
      "text/html": [
       "<div>\n",
       "<style scoped>\n",
       "    .dataframe tbody tr th:only-of-type {\n",
       "        vertical-align: middle;\n",
       "    }\n",
       "\n",
       "    .dataframe tbody tr th {\n",
       "        vertical-align: top;\n",
       "    }\n",
       "\n",
       "    .dataframe thead th {\n",
       "        text-align: right;\n",
       "    }\n",
       "</style>\n",
       "<table border=\"1\" class=\"dataframe\">\n",
       "  <thead>\n",
       "    <tr style=\"text-align: right;\">\n",
       "      <th></th>\n",
       "      <th>Accuracy</th>\n",
       "    </tr>\n",
       "    <tr>\n",
       "      <th></th>\n",
       "      <th></th>\n",
       "    </tr>\n",
       "  </thead>\n",
       "  <tbody>\n",
       "    <tr>\n",
       "      <th>Base Model</th>\n",
       "      <td>90.16%</td>\n",
       "    </tr>\n",
       "    <tr>\n",
       "      <th>Select Features Model</th>\n",
       "      <td>90.103%</td>\n",
       "    </tr>\n",
       "    <tr>\n",
       "      <th>Tuned Model</th>\n",
       "      <td>90.103%</td>\n",
       "    </tr>\n",
       "  </tbody>\n",
       "</table>\n",
       "</div>"
      ]
     },
     "metadata": {},
     "execution_count": 14
    }
   ],
   "metadata": {}
  },
  {
   "cell_type": "markdown",
   "source": [
    "# Save the Model"
   ],
   "metadata": {}
  },
  {
   "cell_type": "code",
   "execution_count": 15,
   "source": [
    "filename = '../Models/BestModel_RandomForest.sav'\r\n",
    "_ = joblib.dump(tuned_model, filename)"
   ],
   "outputs": [],
   "metadata": {}
  },
  {
   "cell_type": "code",
   "execution_count": null,
   "source": [],
   "outputs": [],
   "metadata": {}
  }
 ],
 "metadata": {
  "kernel_info": {
   "name": "dev"
  },
  "kernelspec": {
   "name": "python3",
   "display_name": "Python 3.6.10 64-bit ('PythonData': conda)"
  },
  "language_info": {
   "codemirror_mode": {
    "name": "ipython",
    "version": 3
   },
   "file_extension": ".py",
   "mimetype": "text/x-python",
   "name": "python",
   "nbconvert_exporter": "python",
   "pygments_lexer": "ipython3",
   "version": "3.6.10"
  },
  "nteract": {
   "version": "0.12.3"
  },
  "interpreter": {
   "hash": "50982b229b7c150a71a2108e86a284fd384e02bae1636e543527a175c90f2926"
  }
 },
 "nbformat": 4,
 "nbformat_minor": 2
}